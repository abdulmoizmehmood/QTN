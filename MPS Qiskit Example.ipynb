{
 "cells": [
  {
   "cell_type": "code",
   "execution_count": 31,
   "id": "f8a82a6c-3238-46b0-8a55-39d171c91860",
   "metadata": {
    "tags": []
   },
   "outputs": [],
   "source": [
    "# Importing standard Qiskit libraries\n",
    "from qiskit import QuantumCircuit, transpile, Aer, execute\n",
    "from qiskit.tools.jupyter import *\n",
    "from qiskit.visualization import *\n",
    "from ibm_quantum_widgets import *\n",
    "from qiskit.extensions import Initialize\n",
    "from qiskit.quantum_info import Statevector\n",
    "\n",
    "import matplotlib.pyplot as plt\n",
    "import numpy as np\n",
    "\n",
    "\n",
    "# qiskit-ibmq-provider has been deprecated.\n",
    "# Please see the Migration Guides in https://ibm.biz/provider_migration_guide for more detail.\n",
    "from qiskit_ibm_runtime import QiskitRuntimeService, Sampler, Estimator, Session, Options\n",
    "\n",
    "# Loading your IBM Quantum account(s)\n",
    "service = QiskitRuntimeService(channel=\"ibm_quantum\")\n",
    "\n",
    "# Invoke a primitive. For more details see https://qiskit.org/documentation/partners/qiskit_ibm_runtime/tutorials.html\n",
    "# result = Sampler(\"ibmq_qasm_simulator\").run(circuits).result()"
   ]
  },
  {
   "cell_type": "markdown",
   "id": "7a9ed887-ae1c-471f-8867-bef80c92d8c1",
   "metadata": {},
   "source": [
    "let's define a simple quantum circuit with two qubits. We will apply Hadamard gates to both qubits and then entangle them with a controlled-NOT (CNOT) gate:"
   ]
  },
  {
   "cell_type": "code",
   "execution_count": 32,
   "id": "c5438b1a-4e77-404f-9ca7-7f25d820dfb7",
   "metadata": {
    "tags": []
   },
   "outputs": [
    {
     "data": {
      "image/png": "[encoded data removed]",
      "text/plain": [
       "<Figure size 287.294x200.667 with 1 Axes>"
      ]
     },
     "execution_count": 32,
     "metadata": {},
     "output_type": "execute_result"
    }
   ],
   "source": [
    "qc = QuantumCircuit(2)\n",
    "qc.h(0)\n",
    "qc.cx(0, 1)\n",
    "qc.draw('mpl')"
   ]
  },
  {
   "cell_type": "code",
   "execution_count": 33,
   "id": "e824a6bd-637e-438d-b371-9a5351a32ed3",
   "metadata": {
    "tags": []
   },
   "outputs": [],
   "source": [
    "backend = Aer.get_backend('statevector_simulator')\n",
    "job = execute(qc, backend)\n",
    "result = job.result()\n",
    "statevector = result.get_statevector(qc)  # Get the statevector as a Statevector object\n"
   ]
  },
  {
   "cell_type": "code",
   "execution_count": 34,
   "id": "d952f0f0-31e9-4a1e-903a-a2b596eff80d",
   "metadata": {
    "tags": []
   },
   "outputs": [
    {
     "name": "stdout",
     "output_type": "stream",
     "text": [
      "Site 0: (0.7071067811865476+0j)\n",
      "Site 1: 0j\n",
      "Site 2: 0j\n",
      "Site 3: (0.7071067811865475+0j)\n"
     ]
    }
   ],
   "source": [
    "# Convert the statevector to a numpy array to avoid the deprecation warning\n",
    "statevector_array = np.asarray(statevector)\n",
    "\n",
    "# Print the MPS representation for each qubit site\n",
    "for i, amplitude in enumerate(statevector_array):\n",
    "    print(f\"Site {i}: {amplitude}\")"
   ]
  },
  {
   "cell_type": "code",
   "execution_count": 36,
   "id": "c57fcf58-3eee-48d3-817e-59bff78a6336",
   "metadata": {
    "tags": []
   },
   "outputs": [
    {
     "data": {
      "image/png": "[encoded data removed]",
      "text/plain": [
       "<Figure size 640x480 with 1 Axes>"
      ]
     },
     "metadata": {},
     "output_type": "display_data"
    }
   ],
   "source": [
    "# Plot the MPS representation\n",
    "num_sites = len(statevector_array)\n",
    "plt.bar(range(num_sites), np.abs(statevector_array), align='center')\n",
    "plt.xlabel('Qubit Site')\n",
    "plt.ylabel('Amplitude Magnitude')\n",
    "plt.title('Matrix Product State (MPS) Representation')\n",
    "plt.show()"
   ]
  },
  {
   "cell_type": "code",
   "execution_count": null,
   "id": "0d7b5798-e9da-46f2-91e3-629c357cd0cd",
   "metadata": {},
   "outputs": [],
   "source": []
  }
 ],
 "metadata": {
  "kernelspec": {
   "display_name": "Python 3 (ipykernel)",
   "language": "python",
   "name": "python3"
  },
  "language_info": {
   "codemirror_mode": {
    "name": "ipython",
    "version": 3
   },
   "file_extension": ".py",
   "mimetype": "text/x-python",
   "name": "python",
   "nbconvert_exporter": "python",
   "pygments_lexer": "ipython3",
   "version": "3.10.8"
  },
  "widgets": {
   "application/vnd.jupyter.widget-state+json": {
    "state": {
     "0c451f9c4f63482480fe9ef700c6f88a": {
      "model_module": "@jupyter-widgets/controls",
      "model_module_version": "2.0.0",
      "model_name": "HTMLStyleModel",
      "state": {
       "description_width": "",
       "font_size": null,
       "text_color": null
      }
     },
     "17417f653070464a956e47e8257fd7f9": {
      "model_module": "@jupyter-widgets/base",
      "model_module_version": "2.0.0",
      "model_name": "LayoutModel",
      "state": {
       "width": "145px"
      }
     },
     "1ba065c3fae2413983c4574840f05815": {
      "model_module": "@jupyter-widgets/base",
      "model_module_version": "2.0.0",
      "model_name": "LayoutModel",
      "state": {
       "width": "190px"
      }
     },
     "24ff2b3d350d4faba81188cb3c7a9004": {
      "model_module": "@jupyter-widgets/base",
      "model_module_version": "2.0.0",
      "model_name": "LayoutModel",
      "state": {
       "width": "95px"
      }
     },
     "330ea66530b74eb1ada066358e9fba14": {
      "model_module": "@jupyter-widgets/controls",
      "model_module_version": "2.0.0",
      "model_name": "GridBoxModel",
      "state": {
       "children": [
        "IPY_MODEL_694ba5f8dd0847679df457abbddd8df5"
       ],
       "layout": "IPY_MODEL_454185b46dcd4ecb860114e2564519ea"
      }
     },
     "4292b73c69d4452ca40578c81cf5eef7": {
      "model_module": "@jupyter-widgets/controls",
      "model_module_version": "2.0.0",
      "model_name": "HTMLModel",
      "state": {
       "layout": "IPY_MODEL_17417f653070464a956e47e8257fd7f9",
       "style": "IPY_MODEL_464df52ac38f46368487d9a00aad4fd2",
       "value": "<h5>Backend</h5>"
      }
     },
     "454185b46dcd4ecb860114e2564519ea": {
      "model_module": "@jupyter-widgets/base",
      "model_module_version": "2.0.0",
      "model_name": "LayoutModel",
      "state": {
       "grid_template_areas": "\n                                       \". . . . right \"\n                                        ",
       "grid_template_columns": "20% 20% 20% 20% 20%",
       "width": "100%"
      }
     },
     "464df52ac38f46368487d9a00aad4fd2": {
      "model_module": "@jupyter-widgets/controls",
      "model_module_version": "2.0.0",
      "model_name": "HTMLStyleModel",
      "state": {
       "description_width": "",
       "font_size": null,
       "text_color": null
      }
     },
     "5623fa2cbd3f49e384878b00f49c2794": {
      "model_module": "@jupyter-widgets/controls",
      "model_module_version": "2.0.0",
      "model_name": "HTMLStyleModel",
      "state": {
       "description_width": "",
       "font_size": null,
       "text_color": null
      }
     },
     "66c363bdc56f4ab280dabe6e34f114c4": {
      "model_module": "@jupyter-widgets/controls",
      "model_module_version": "2.0.0",
      "model_name": "HTMLModel",
      "state": {
       "layout": "IPY_MODEL_24ff2b3d350d4faba81188cb3c7a9004",
       "style": "IPY_MODEL_e3b784448e63402ba3224586b47b40cf",
       "value": "<h5>Status</h5>"
      }
     },
     "678ba1b8f73544a38469fa98c89cf6e9": {
      "model_module": "@jupyter-widgets/controls",
      "model_module_version": "2.0.0",
      "model_name": "HTMLModel",
      "state": {
       "layout": "IPY_MODEL_d25a874d6f734af98df8edac63e23e33",
       "style": "IPY_MODEL_c613f99a2dfd499686c1b5bb188e0406",
       "value": "<p style='font-family: IBM Plex Sans, Arial, Helvetica, sans-serif; font-size: 20px; font-weight: medium;'>Circuit Properties</p>"
      }
     },
     "694ba5f8dd0847679df457abbddd8df5": {
      "model_module": "@jupyter-widgets/controls",
      "model_module_version": "2.0.0",
      "model_name": "ButtonModel",
      "state": {
       "button_style": "primary",
       "description": "Clear",
       "layout": "IPY_MODEL_ec53ee1b113c4864abbf0dd0f27533cf",
       "style": "IPY_MODEL_7144fe99b77c42dc907d6ceb61ef4b9e",
       "tooltip": null
      }
     },
     "7144fe99b77c42dc907d6ceb61ef4b9e": {
      "model_module": "@jupyter-widgets/controls",
      "model_module_version": "2.0.0",
      "model_name": "ButtonStyleModel",
      "state": {
       "font_family": null,
       "font_size": null,
       "font_style": null,
       "font_variant": null,
       "font_weight": null,
       "text_color": null,
       "text_decoration": null
      }
     },
     "71e0837cfca64a5c8eff59e24e80c2e1": {
      "model_module": "@jupyter-widgets/controls",
      "model_module_version": "2.0.0",
      "model_name": "HTMLModel",
      "state": {
       "layout": "IPY_MODEL_fa187273f45d46bda0ea81b9cde1a591",
       "style": "IPY_MODEL_0c451f9c4f63482480fe9ef700c6f88a",
       "value": "<h5>Queue</h5>"
      }
     },
     "95bc1bbbdcff4ec19969f04de2dc1719": {
      "model_module": "@jupyter-widgets/base",
      "model_module_version": "2.0.0",
      "model_name": "LayoutModel",
      "state": {
       "margin": "0px 0px 0px 37px",
       "width": "600px"
      }
     },
     "975da1d702e948858274848ec25462f1": {
      "model_module": "@jupyter-widgets/controls",
      "model_module_version": "2.0.0",
      "model_name": "HTMLStyleModel",
      "state": {
       "description_width": "",
       "font_size": null,
       "text_color": null
      }
     },
     "9d811856ecb74b46a740532483f0fbe6": {
      "model_module": "@jupyter-widgets/controls",
      "model_module_version": "2.0.0",
      "model_name": "HTMLModel",
      "state": {
       "layout": "IPY_MODEL_e48ffc4bfcf048cdb4c901e06a1d4026",
       "style": "IPY_MODEL_975da1d702e948858274848ec25462f1",
       "value": "<h5>Message</h5>"
      }
     },
     "a3cebf1a8ecc4d0f9d55d0d2bf68eae2": {
      "model_module": "@jupyter-widgets/controls",
      "model_module_version": "2.0.0",
      "model_name": "HTMLModel",
      "state": {
       "layout": "IPY_MODEL_1ba065c3fae2413983c4574840f05815",
       "style": "IPY_MODEL_5623fa2cbd3f49e384878b00f49c2794",
       "value": "<h5>Job ID</h5>"
      }
     },
     "b8c718583b7340b292f87d1443771001": {
      "model_module": "@jupyter-widgets/controls",
      "model_module_version": "2.0.0",
      "model_name": "HBoxModel",
      "state": {
       "children": [
        "IPY_MODEL_a3cebf1a8ecc4d0f9d55d0d2bf68eae2",
        "IPY_MODEL_4292b73c69d4452ca40578c81cf5eef7",
        "IPY_MODEL_66c363bdc56f4ab280dabe6e34f114c4",
        "IPY_MODEL_71e0837cfca64a5c8eff59e24e80c2e1",
        "IPY_MODEL_9d811856ecb74b46a740532483f0fbe6"
       ],
       "layout": "IPY_MODEL_95bc1bbbdcff4ec19969f04de2dc1719"
      }
     },
     "c613f99a2dfd499686c1b5bb188e0406": {
      "model_module": "@jupyter-widgets/controls",
      "model_module_version": "2.0.0",
      "model_name": "HTMLStyleModel",
      "state": {
       "description_width": "",
       "font_size": null,
       "text_color": null
      }
     },
     "d25a874d6f734af98df8edac63e23e33": {
      "model_module": "@jupyter-widgets/base",
      "model_module_version": "2.0.0",
      "model_name": "LayoutModel",
      "state": {
       "margin": "0px 0px 10px 0px"
      }
     },
     "e3b784448e63402ba3224586b47b40cf": {
      "model_module": "@jupyter-widgets/controls",
      "model_module_version": "2.0.0",
      "model_name": "HTMLStyleModel",
      "state": {
       "description_width": "",
       "font_size": null,
       "text_color": null
      }
     },
     "e48ffc4bfcf048cdb4c901e06a1d4026": {
      "model_module": "@jupyter-widgets/base",
      "model_module_version": "2.0.0",
      "model_name": "LayoutModel",
      "state": {}
     },
     "ec53ee1b113c4864abbf0dd0f27533cf": {
      "model_module": "@jupyter-widgets/base",
      "model_module_version": "2.0.0",
      "model_name": "LayoutModel",
      "state": {
       "grid_area": "right",
       "padding": "0px 0px 0px 0px",
       "width": "70px"
      }
     },
     "fa187273f45d46bda0ea81b9cde1a591": {
      "model_module": "@jupyter-widgets/base",
      "model_module_version": "2.0.0",
      "model_name": "LayoutModel",
      "state": {
       "width": "70px"
      }
     }
    },
    "version_major": 2,
    "version_minor": 0
   }
  }
 },
 "nbformat": 4,
 "nbformat_minor": 5
}
